{
 "cells": [
  {
   "cell_type": "code",
   "execution_count": 2,
   "metadata": {},
   "outputs": [
    {
     "name": "stdout",
     "output_type": "stream",
     "text": [
      "The autoreload extension is already loaded. To reload it, use:\n",
      "  %reload_ext autoreload\n"
     ]
    }
   ],
   "source": [
    "import utils.dataloading as dlt\n",
    "import utils.model_utils as mu\n",
    "from astropy.io.fits import getheader\n",
    "from astropy.io import fits\n",
    "import numpy as np\n",
    "import torch\n",
    "from tqdm import tqdm\n",
    "from itertools import starmap\n",
    "\n",
    "%load_ext autoreload\n",
    "%autoreload 2"
   ]
  },
  {
   "cell_type": "code",
   "execution_count": 4,
   "metadata": {},
   "outputs": [
    {
     "name": "stdout",
     "output_type": "stream",
     "text": [
      "[112 112 112]\n",
      "Computing Cube Statistics...\n"
     ]
    },
    {
     "name": "stderr",
     "output_type": "stream",
     "text": [
      "100%|██████████| 1280/1280 [00:43<00:00, 29.32it/s]\n"
     ]
    },
    {
     "name": "stdout",
     "output_type": "stream",
     "text": [
      "Building Deconvolver\n",
      "Expansion factor:  1\n"
     ]
    },
    {
     "name": "stderr",
     "output_type": "stream",
     "text": [
      "Loading input data: 100%|██████████| 128/128 [00:01<00:00, 90.86it/s]\n",
      "Propagating model:   0%|          | 0/1 [00:00<?, ?it/s]\n"
     ]
    },
    {
     "name": "stdout",
     "output_type": "stream",
     "text": [
      "Before Eval torch.Size([1, 1, 128, 128, 128]) torch.Size([1, 2])\n",
      "torch.Size([1, 1, 128, 128, 128])\n"
     ]
    },
    {
     "ename": "ValueError",
     "evalue": "Memory Issue",
     "output_type": "error",
     "traceback": [
      "\u001b[0;31m---------------------------------------------------------------------------\u001b[0m",
      "\u001b[0;31mNameError\u001b[0m                                 Traceback (most recent call last)",
      "File \u001b[0;32m~/DeepFocus/utils/dataloading.py:248\u001b[0m, in \u001b[0;36mEvaluationTraverser.traverse\u001b[0;34m(self, save_output, save_input, remove_cols, output_path)\u001b[0m\n\u001b[1;32m    247\u001b[0m \u001b[39mtry\u001b[39;00m:\n\u001b[0;32m--> 248\u001b[0m     o, e \u001b[39m=\u001b[39m cube_evaluation(hi_cube_tensor, \u001b[39mself\u001b[39;49m\u001b[39m.\u001b[39;49mmodel_input_dim, \u001b[39mself\u001b[39;49m\u001b[39m.\u001b[39;49mpadding, position,\n\u001b[1;32m    249\u001b[0m                            overlap_slices, overlaps, \u001b[39mself\u001b[39;49m\u001b[39m.\u001b[39;49mmodel)\n\u001b[1;32m    250\u001b[0m \u001b[39mexcept\u001b[39;00m:\n",
      "File \u001b[0;32m~/DeepFocus/utils/dataloading.py:158\u001b[0m, in \u001b[0;36mcube_evaluation\u001b[0;34m(cube, dim, padding, position, overlap_slices, overlaps, model)\u001b[0m\n\u001b[1;32m    157\u001b[0m \u001b[39mwith\u001b[39;00m torch\u001b[39m.\u001b[39mno_grad():\n\u001b[0;32m--> 158\u001b[0m     model_out \u001b[39m=\u001b[39m model(model_input, frequency_channels)\n\u001b[1;32m    159\u001b[0m out \u001b[39m=\u001b[39m torch\u001b[39m.\u001b[39mempty(\u001b[39mlen\u001b[39m(overlap_slices), \u001b[39m1\u001b[39m, \u001b[39m*\u001b[39mdim)\n",
      "File \u001b[0;32m~/anaconda3/envs/deep_learning/lib/python3.10/site-packages/torch/nn/modules/module.py:1501\u001b[0m, in \u001b[0;36mModule._call_impl\u001b[0;34m(self, *args, **kwargs)\u001b[0m\n\u001b[1;32m   1498\u001b[0m \u001b[39mif\u001b[39;00m \u001b[39mnot\u001b[39;00m (\u001b[39mself\u001b[39m\u001b[39m.\u001b[39m_backward_hooks \u001b[39mor\u001b[39;00m \u001b[39mself\u001b[39m\u001b[39m.\u001b[39m_backward_pre_hooks \u001b[39mor\u001b[39;00m \u001b[39mself\u001b[39m\u001b[39m.\u001b[39m_forward_hooks \u001b[39mor\u001b[39;00m \u001b[39mself\u001b[39m\u001b[39m.\u001b[39m_forward_pre_hooks\n\u001b[1;32m   1499\u001b[0m         \u001b[39mor\u001b[39;00m _global_backward_pre_hooks \u001b[39mor\u001b[39;00m _global_backward_hooks\n\u001b[1;32m   1500\u001b[0m         \u001b[39mor\u001b[39;00m _global_forward_hooks \u001b[39mor\u001b[39;00m _global_forward_pre_hooks):\n\u001b[0;32m-> 1501\u001b[0m     \u001b[39mreturn\u001b[39;00m forward_call(\u001b[39m*\u001b[39;49margs, \u001b[39m*\u001b[39;49m\u001b[39m*\u001b[39;49mkwargs)\n\u001b[1;32m   1502\u001b[0m \u001b[39m# Do not call functions when jit is used\u001b[39;00m\n",
      "File \u001b[0;32m~/DeepFocus/utils/model_utils.py:787\u001b[0m, in \u001b[0;36mDeepFocus.forward\u001b[0;34m(self, x, frequency_channels)\u001b[0m\n\u001b[1;32m    786\u001b[0m \u001b[39mprint\u001b[39m(x\u001b[39m.\u001b[39mshape)\n\u001b[0;32m--> 787\u001b[0m x \u001b[39m=\u001b[39m \u001b[39mself\u001b[39m\u001b[39m.\u001b[39m_get_model_input(x, frequency_channels)\u001b[39m.\u001b[39mto(device)\n\u001b[1;32m    788\u001b[0m \u001b[39mprint\u001b[39m(x\u001b[39m.\u001b[39mshape, x\u001b[39m.\u001b[39mdevice)\n",
      "\u001b[0;31mNameError\u001b[0m: name 'device' is not defined",
      "\nDuring handling of the above exception, another exception occurred:\n",
      "\u001b[0;31mValueError\u001b[0m                                Traceback (most recent call last)",
      "Cell \u001b[0;32mIn[4], line 16\u001b[0m\n\u001b[1;32m     13\u001b[0m device \u001b[39m=\u001b[39m torch\u001b[39m.\u001b[39mdevice(\u001b[39m'\u001b[39m\u001b[39mcuda\u001b[39m\u001b[39m'\u001b[39m)\n\u001b[1;32m     14\u001b[0m evaluator \u001b[39m=\u001b[39m dlt\u001b[39m.\u001b[39mEvaluationTraverser(segmenter, path, model_input_dim, cnn_padding,\n\u001b[1;32m     15\u001b[0m                                      desired_dim, max_batch_size, n_parallel\u001b[39m=\u001b[39m\u001b[39m1\u001b[39m, i_job\u001b[39m=\u001b[39m\u001b[39m0\u001b[39m)\n\u001b[0;32m---> 16\u001b[0m df \u001b[39m=\u001b[39m evaluator\u001b[39m.\u001b[39;49mtraverse(output_path\u001b[39m=\u001b[39;49m\u001b[39m'\u001b[39;49m\u001b[39m/media/storage/big_cube/processed.fits\u001b[39;49m\u001b[39m'\u001b[39;49m)\n",
      "File \u001b[0;32m~/DeepFocus/utils/dataloading.py:253\u001b[0m, in \u001b[0;36mEvaluationTraverser.traverse\u001b[0;34m(self, save_output, save_input, remove_cols, output_path)\u001b[0m\n\u001b[1;32m    250\u001b[0m \u001b[39mexcept\u001b[39;00m:\n\u001b[1;32m    251\u001b[0m     pickle\u001b[39m.\u001b[39mdump({\u001b[39m'\u001b[39m\u001b[39mj_loop\u001b[39m\u001b[39m'\u001b[39m: j, \u001b[39m'\u001b[39m\u001b[39mn_parallel\u001b[39m\u001b[39m'\u001b[39m: \u001b[39mself\u001b[39m\u001b[39m.\u001b[39mn_parallel, \u001b[39m'\u001b[39m\u001b[39mi_job\u001b[39m\u001b[39m'\u001b[39m: \u001b[39mself\u001b[39m\u001b[39m.\u001b[39mi_job},\n\u001b[1;32m    252\u001b[0m                 \u001b[39mopen\u001b[39m(\u001b[39m\"\u001b[39m\u001b[39mj_loop.p\u001b[39m\u001b[39m\"\u001b[39m, \u001b[39m\"\u001b[39m\u001b[39mwb\u001b[39m\u001b[39m\"\u001b[39m))\n\u001b[0;32m--> 253\u001b[0m     \u001b[39mraise\u001b[39;00m \u001b[39mValueError\u001b[39;00m(\u001b[39m'\u001b[39m\u001b[39mMemory Issue\u001b[39m\u001b[39m'\u001b[39m)\n\u001b[1;32m    254\u001b[0m outputs \u001b[39m+\u001b[39m\u001b[39m=\u001b[39m o\n\u001b[1;32m    255\u001b[0m efficient_slices \u001b[39m+\u001b[39m\u001b[39m=\u001b[39m e    \n",
      "\u001b[0;31mValueError\u001b[0m: Memory Issue"
     ]
    }
   ],
   "source": [
    "#import utils.dl_utils as dl \n",
    "\n",
    "path = '/media/storage/big_cube/dirty_cube_0.fits'\n",
    "n_parallel = 1\n",
    "i_job = 0\n",
    "max_batch_size = 32\n",
    "header = fits.getheader(path)\n",
    "model_input_dim = np.array([128, 128, 128])\n",
    "cnn_padding = np.array([8, 8, 8])\n",
    "desired_dim = (model_input_dim - 2 * cnn_padding)\n",
    "print(desired_dim)\n",
    "segmenter = dlt.get_base_segmenter(path, (128, 128, 128))\n",
    "device = torch.device('cuda')\n",
    "evaluator = dlt.EvaluationTraverser(segmenter, path, model_input_dim, cnn_padding,\n",
    "                                     desired_dim, max_batch_size, n_parallel=1, i_job=0)\n",
    "df = evaluator.traverse(output_path='/media/storage/big_cube/processed.fits')"
   ]
  },
  {
   "cell_type": "code",
   "execution_count": null,
   "metadata": {},
   "outputs": [],
   "source": []
  }
 ],
 "metadata": {
  "kernelspec": {
   "display_name": "casa6.5",
   "language": "python",
   "name": "python3"
  },
  "language_info": {
   "codemirror_mode": {
    "name": "ipython",
    "version": 3
   },
   "file_extension": ".py",
   "mimetype": "text/x-python",
   "name": "python",
   "nbconvert_exporter": "python",
   "pygments_lexer": "ipython3",
   "version": "3.10.10"
  },
  "orig_nbformat": 4
 },
 "nbformat": 4,
 "nbformat_minor": 2
}
