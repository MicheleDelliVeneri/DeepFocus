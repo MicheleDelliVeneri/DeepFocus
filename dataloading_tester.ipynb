{
 "cells": [
  {
   "cell_type": "code",
   "execution_count": null,
   "metadata": {},
   "outputs": [],
   "source": [
    "import utils.dataloading as dlt\n",
    "import utils.model_utils as mu\n",
    "import utils.dl_utils as dl\n",
    "import torch.nn as nn\n",
    "from astropy.io.fits import getheader\n",
    "from astropy.io import fits\n",
    "import numpy as np\n",
    "import torch\n",
    "from tqdm import tqdm\n",
    "import torchio as tio\n",
    "from itertools import starmap\n",
    "\n",
    "%load_ext autoreload\n",
    "%autoreload 2"
   ]
  },
  {
   "cell_type": "code",
   "execution_count": null,
   "metadata": {},
   "outputs": [],
   "source": [
    "path = '/media/storage/big_cube/dirty_cube_0.fits'\n",
    "device = torch.device('cuda')\n",
    "dataset, aggregator = dl.get_big_cube_patches(path, (256, 256, 128), (8, 8, 8), 4, 4, False)\n",
    "model = mu.DeepFocus(1, 1, debug=True, input_shape=(256, 256, 128))\n",
    "model.to(device).eval()"
   ]
  },
  {
   "cell_type": "code",
   "execution_count": null,
   "metadata": {},
   "outputs": [],
   "source": [
    "\n",
    "device = torch.device('cuda')\n",
    "with torch.no_grad():\n",
    "    for patches_batch in tqdm(dataset, total=len(dataset)):\n",
    "        print\n",
    "        input_tensor = patches_batch['dirty'][tio.DATA].to(device)\n",
    "        print(input_tensor.shape)\n",
    "        locations = patches_batch[tio.LOCATION].to(device)\n",
    "        output_tensor = model(input_tensor)\n",
    "        aggregator.add_batch(output_tensor, locations)\n",
    "output_tensor = aggregator.get_output_tensor()\n",
    "print(output_tensor.shape)"
   ]
  }
 ],
 "metadata": {
  "kernelspec": {
   "display_name": "casa6.5",
   "language": "python",
   "name": "python3"
  },
  "language_info": {
   "codemirror_mode": {
    "name": "ipython",
    "version": 3
   },
   "file_extension": ".py",
   "mimetype": "text/x-python",
   "name": "python",
   "nbconvert_exporter": "python",
   "pygments_lexer": "ipython3",
   "version": "3.10.11"
  },
  "orig_nbformat": 4
 },
 "nbformat": 4,
 "nbformat_minor": 2
}
